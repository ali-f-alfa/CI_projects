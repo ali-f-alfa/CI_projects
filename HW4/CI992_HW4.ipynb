{
  "nbformat": 4,
  "nbformat_minor": 0,
  "metadata": {
    "colab": {
      "name": "CI992_HW4.ipynb",
      "provenance": [],
      "collapsed_sections": [],
      "toc_visible": true
    },
    "kernelspec": {
      "display_name": "Python 3",
      "language": "python",
      "name": "python3"
    },
    "language_info": {
      "codemirror_mode": {
        "name": "ipython",
        "version": 3
      },
      "file_extension": ".py",
      "mimetype": "text/x-python",
      "name": "python",
      "nbconvert_exporter": "python",
      "pygments_lexer": "ipython3",
      "version": "3.8.7"
    }
  },
  "cells": [
    {
      "cell_type": "markdown",
      "metadata": {
        "id": "heBxPYfc0U22"
      },
      "source": [
        "# Your info\n",
        "\n",
        "Full name: mohamad ali farahat\n",
        "\n",
        "Student ID: 97521423"
      ]
    },
    {
      "cell_type": "markdown",
      "metadata": {
        "id": "AJU-9zasc1D6"
      },
      "source": [
        "Notice: **You can add new cells for each part.**"
      ]
    },
    {
      "cell_type": "markdown",
      "metadata": {
        "id": "UBD007b3-ntJ"
      },
      "source": [
        "# Q1"
      ]
    },
    {
      "cell_type": "code",
      "metadata": {
        "id": "rld-5wsb1gZS",
        "colab": {
          "base_uri": "https://localhost:8080/"
        },
        "outputId": "325b581b-0ce9-409b-b4bb-42e7debd5c03"
      },
      "source": [
        "import random \n",
        "import numpy as np\n",
        "\n",
        "aa = 99999\n",
        "Edges = [[0,12,10,aa,aa,aa,12],\n",
        "           [12,0,8,12,aa,aa,aa],\n",
        "           [10,8,0,11,3,aa,9],\n",
        "           [aa,12,11,0,11,10,aa],\n",
        "           [aa,aa,3,11,0,6,7],\n",
        "           [aa,aa,aa,10,6,0,9],\n",
        "           [12,aa,9,aa,7,9,0]]\n",
        "\n",
        "class Ant(): \n",
        "    def __init__(self, chromosome): \n",
        "        self.chromosome = chromosome  \n",
        "  \n",
        "    def fitness(self): \n",
        "        sum = 0\n",
        "        for i in range(7):\n",
        "            sum += Edges[self.chromosome[i]][self.chromosome[i+1]]\n",
        "        return sum\n",
        "  \n",
        "    def cross_over(self, parent2):     \n",
        "        dad = []\n",
        "        mom = []\n",
        "        \n",
        "        r1 = random.randint(1,6)\n",
        "        numbers = list(range(1, 7))\n",
        "        numbers.remove(r1) \n",
        "        r2 = random.choice(numbers)   \n",
        "\n",
        "        for i in range(min(r1, r2), max(r1, r2)):\n",
        "            dad.append(self.chromosome[i])\n",
        "        for i in range(len(parent2.chromosome)):\n",
        "            if (parent2.chromosome[i] not in dad) and len(mom)< min(r1, r2) :\n",
        "                mom.append(parent2.chromosome[i])\n",
        "        \n",
        "        child = mom + dad\n",
        "\n",
        "        for i in range(len(parent2.chromosome)):\n",
        "            if parent2.chromosome[i] not in child:\n",
        "                child.append(parent2.chromosome[i])\n",
        "        child.append(0)\n",
        "\n",
        "        # mutation\n",
        "        if random.random() < 0.1:\n",
        "            child = mutation(child)\n",
        "            \n",
        "        return Ant(child) \n",
        "  \n",
        "\n",
        "\n",
        "def initilize_chromosome():        \n",
        "    x = [0] \n",
        "    x.extend(random.sample(range(1,7), 6))\n",
        "    x.append(0)\n",
        "    return x\n",
        "   \n",
        "def mutation(chromosome): \n",
        "    r1 = random.randint(1,6)\n",
        "    numbers = list(range(1, 7))\n",
        "    numbers.remove(r1) \n",
        "    r2 = random.choice(numbers)     \n",
        "    \n",
        "    chromosome[r1],chromosome[r2] = chromosome[r2],chromosome[r1]\n",
        "    return chromosome\n",
        "\n",
        "\n",
        "if __name__ == '__main__':\n",
        "\n",
        "    number_of_population = 35\n",
        "    generation = 0\n",
        "    Ants = [] \n",
        "  \n",
        "    for i in range(number_of_population): \n",
        "        Ants.append(Ant(initilize_chromosome())) \n",
        "\n",
        "    for i in range(1000):\n",
        "        generation += 1\n",
        "        Ants = sorted(Ants, key = lambda x:x.fitness()) \n",
        "  \n",
        "        children = [] \n",
        "\n",
        "        p = int(number_of_population*0.5) \n",
        "        children.extend(Ants[:p]) \n",
        "  \n",
        "        p = int(number_of_population*0.7) \n",
        "        for i in range(p): \n",
        "            parent1 = random.choice(Ants[:50]) \n",
        "            parent2 = random.choice(Ants[:50]) \n",
        "            child = parent1.cross_over(parent2) \n",
        "            children.append(child) \n",
        "  \n",
        "        Ants = children \n",
        "  \n",
        "    answer = Ants[0]\n",
        "    print(\"answer path :\" , [x + 1 for x in answer.chromosome])\n",
        "    print( \"path length :\", answer.fitness())\n",
        "    print(\"Generation:\", generation)\n"
      ],
      "execution_count": 138,
      "outputs": [
        {
          "output_type": "stream",
          "text": [
            "answer path : [1, 3, 5, 7, 6, 4, 2, 1]\n",
            "path length : 63\n",
            "Generation: 1000\n"
          ],
          "name": "stdout"
        }
      ]
    },
    {
      "cell_type": "markdown",
      "metadata": {
        "id": "IZSH8riLCDQi"
      },
      "source": [
        "# Q2"
      ]
    },
    {
      "cell_type": "code",
      "metadata": {
        "id": "hWDE-iamebf8",
        "colab": {
          "base_uri": "https://localhost:8080/"
        },
        "outputId": "b002e0db-cb66-417a-c423-323b19db7561"
      },
      "source": [
        "#write your code here\n",
        "import random\n",
        "  \n",
        "class Ant(object): \n",
        "    def __init__(self, chromosome): \n",
        "        self.chromosome = chromosome  \n",
        "        \n",
        "    def fitness(self):\n",
        "        chromosome_string = str(self.chromosome)\n",
        "        \n",
        "        left = int(chromosome_string[2:9],2)\n",
        "        right = int(chromosome_string[9:],2)\n",
        "\n",
        "        x = left + (right / (10 ** len(str(right))))\n",
        "\n",
        "        if chromosome_string[1] == \"1\":\n",
        "            x *= -1\n",
        "\n",
        "        return abs((9*(x**5))-(194.7*(x**4))+(1680.1*(x**3))-(7227.94*(x**2))+(15501.2*x)-13257.2)\n",
        "\n",
        "    \n",
        "    def cross_over(self, parent2):\n",
        "\n",
        "        dad = list(str(self.chromosome))\n",
        "        mom = list(str(parent2.chromosome))\n",
        "        \n",
        "        r1 = random.randint(1,63)\n",
        "        numbers = list(range(1, 64))\n",
        "        numbers.remove(r1) \n",
        "        r2 = random.choice(numbers)      \n",
        "    \n",
        "        mom[min(r1, r2):max(r1, r2)] = dad[min(r1, r2):max(r1, r2)]\n",
        "        child = dad\n",
        "\n",
        "\n",
        "        if random.random() < 0.1:\n",
        "            child = mutation(child)\n",
        "        child = int(\"\".join(child))\n",
        "        return Ant(child) \n",
        "  \n",
        "\n",
        "def initilize_chromosome(): \n",
        "    chromosome = '1'\n",
        "\n",
        "    for i in range(63):\n",
        "        chromosome += str(random.randint(0,1))\n",
        "\n",
        "    chromosome = int(chromosome)\n",
        "    return chromosome\n",
        "\n",
        "\n",
        "def mutation(chromosome): \n",
        "    r = random.randint(1,63)\n",
        "\n",
        "    if chromosome[r] == \"0\":\n",
        "        chromosome[r] = \"1\"\n",
        "    else:\n",
        "        chromosome[r] = \"0\"\n",
        "\n",
        "    return chromosome\n",
        "\n",
        "\n",
        "def main():   \n",
        "    generation = 0\n",
        "    Ants = [] \n",
        "    number_of_population = 300\n",
        "\n",
        "\n",
        "    for i in range(number_of_population): \n",
        "        Ants.append(Ant(initilize_chromosome())) \n",
        "\n",
        "\n",
        "    for i in range(250):\n",
        "\n",
        "        generation += 1\n",
        "\n",
        "        Ants = sorted(Ants, key = lambda x:x.fitness()) \n",
        "        if Ants[0].fitness() < 0.001:\n",
        "            break\n",
        "\n",
        "        else :\n",
        "            children = [] \n",
        "    \n",
        "            p = int(number_of_population*0.5)\n",
        "            children.extend(Ants[:p]) \n",
        "    \n",
        "            p = int(number_of_population*0.7)\n",
        "            for i in range(p): \n",
        "                parent1 = random.choice(Ants[:50]) \n",
        "                parent2 = random.choice(Ants[:50]) \n",
        "                child = parent1.cross_over(parent2) \n",
        "                children.append(child) \n",
        "    \n",
        "            Ants = children \n",
        "    \n",
        "\n",
        "    chromosome_string = str(Ants[0].chromosome)\n",
        "    left = int(chromosome_string[2:9],2)\n",
        "    right = int(chromosome_string[9:],2)\n",
        "    x = left + (right / (10 ** len(str(right))))\n",
        "    if chromosome_string[1] == \"1\":\n",
        "        x *= -1\n",
        "\n",
        "    print(\"approximate Answer is : \", x)\n",
        "    print(\"best chromosome: \", Ants[0].chromosome)\n",
        "    print(\"generation: \", generation)\n",
        "  \n",
        "if __name__ == '__main__':\n",
        "    main()\n"
      ],
      "execution_count": 139,
      "outputs": [
        {
          "output_type": "stream",
          "text": [
            "approximate Answer is :  4.883415157135174\n",
            "best chromosome:  1000001000011111011000101001110100110010010011010110100010111101\n",
            "generation:  9\n"
          ],
          "name": "stdout"
        }
      ]
    },
    {
      "cell_type": "markdown",
      "metadata": {
        "id": "iRqYhKw1rgUp"
      },
      "source": [
        "# <font color='red'>Submission</font>\n",
        "\n",
        "1. Sign up in [Gradescope](https://www.gradescope.com) with proper name and student ID and use the following code to join the class: <font color='red'>**D5372R**</font>\n",
        "2. Fill in your full name (seperated by single spaces) and student ID in the beginning of this notebook.\n",
        "3. After you're done with this notebook, you should do the following:\n",
        "  - Clear all outputs of the notebook.\n",
        "  ![clear all outputs](https://i.ibb.co/y6FrttB/Screen-Shot-2021-03-21-at-01-51-42.png)\n",
        "  - Run all of the cells (if you skipped a question just leave the cell unchanged), and make sure all of your outputs are correct.\n",
        "  ![run all](https://i.ibb.co/cgRcBZ0/Screen-Shot-2021-03-21-at-01-54-58.png)\n",
        "  - Save your notebook.\n",
        "  \n",
        "  - If you're using Colab, download your notebook.\n",
        "  ![download ipynb](https://i.ibb.co/2KxYM6K/Screen-Shot-2021-03-21-at-02-03-50.png)\n",
        "  \n",
        "  - Put the notebook file you just downloaded and `convert.py` in the same folder run the following command:\n",
        "  ```bash\n",
        "  python convert.py\n",
        "  ```\n",
        "  This will export your code for each question into a `.py` file.\n",
        "   \n",
        "\n",
        "  according to the question number.\n",
        "  - There are 2 assignments in Gradescope: \n",
        "\n",
        "    You should upload your **codes** and your **notebook** in `HW4` section and your final report for all of the questions as a **single pdf** file in `HW4 - Report`. Autograder will automatically check for:\n",
        "    - `CI992_HW4.ipynb`\n",
        "    - `Q1 Q1.py`\n",
        "    - `Q2 Q2.py`\n",
        "    - Your name and ID in the beginning of `.ipynb` file.\n",
        "\n",
        "    It is important that you <font color='red'>**don't**</font> change the names of these files before submission.\n",
        "\n",
        "4. If you pass the autograder, you're good to go."
      ]
    },
    {
      "cell_type": "code",
      "metadata": {
        "id": "FnTVIJyyA8nJ"
      },
      "source": [
        ""
      ],
      "execution_count": null,
      "outputs": []
    }
  ]
}